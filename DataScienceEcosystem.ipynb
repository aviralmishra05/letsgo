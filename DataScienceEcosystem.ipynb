{
 "cells": [
  {
   "cell_type": "markdown",
   "id": "8ac9d424-dfa8-40c9-bd82-6115e3e5be1c",
   "metadata": {},
   "source": [
    "# Data Science Tools and Ecosystem"
   ]
  },
  {
   "cell_type": "markdown",
   "id": "059c8a5f-b441-42d5-9066-3ca415f4322a",
   "metadata": {},
   "source": [
    "In this notebook , Data Science Tools and Ecosystem are summarized"
   ]
  },
  {
   "cell_type": "markdown",
   "id": "c3f0de18-166d-4341-a0b2-fd6c9561cbb1",
   "metadata": {},
   "source": [
    "Some of the popular languages that Data Scientists use are:\n",
    "1.PYTHON\n",
    "2.JAVA\n",
    "3.SQL\n",
    "4.R\n",
    "5.C++ etc..."
   ]
  },
  {
   "cell_type": "markdown",
   "id": "f3d14ad3-acc2-4a27-80db-0bbd837c6475",
   "metadata": {},
   "source": [
    "Some of the commonly used libraries used by Data Scientists include:\n",
    "1.NUMPY\n",
    "2.PANDAS\n",
    "3.MATPLOTLIB\n",
    "4.SCIPY\n",
    "5.SCIKIT\n",
    "6.KERAS"
   ]
  },
  {
   "cell_type": "markdown",
   "id": "b7218316-1949-4fcd-8c21-32df5c56db63",
   "metadata": {},
   "source": [
    "| Data Science Tools|\n",
    "| ------------------|\n",
    "| APACHE SPARK|\n",
    "| JUPYTER NOTEBOOK|\n",
    "| APACHE HADOOP|\n",
    "|TENSORFLOW|"
   ]
  },
  {
   "cell_type": "markdown",
   "id": "76a5ff8e-7f2b-4408-bca2-7d62c108e4b5",
   "metadata": {},
   "source": [
    "# Below are a few examples for evaluating arithmatic expressions in Python"
   ]
  },
  {
   "cell_type": "code",
   "execution_count": 3,
   "id": "117b6683-9026-4b7d-b582-d69698261c6a",
   "metadata": {},
   "outputs": [
    {
     "data": {
      "text/plain": [
       "17"
      ]
     },
     "execution_count": 3,
     "metadata": {},
     "output_type": "execute_result"
    }
   ],
   "source": [
    "# this is a common arithmatic example to multiply and then add integers\n",
    "(3*4)+5"
   ]
  },
  {
   "cell_type": "code",
   "execution_count": 4,
   "id": "383ab4af-60f2-419e-a958-2a53e0fd817b",
   "metadata": {},
   "outputs": [
    {
     "data": {
      "text/plain": [
       "3.3333333333333335"
      ]
     },
     "execution_count": 4,
     "metadata": {},
     "output_type": "execute_result"
    }
   ],
   "source": [
    "# This will convert 200 minutes to hours by diving by 60\n",
    "200/60"
   ]
  },
  {
   "cell_type": "markdown",
   "id": "e5453e2c-d5d1-4bf4-95e1-f68d6a3c5aae",
   "metadata": {},
   "source": [
    "__Objective__\n",
    "* List popular languages for data science\n",
    "* List popular libraries for data science\n",
    "* List of well known data science tools \n",
    "* How to provide comments in the cell"
   ]
  }
 ],
 "metadata": {
  "kernelspec": {
   "display_name": "Python 3 (ipykernel)",
   "language": "python",
   "name": "python3"
  },
  "language_info": {
   "codemirror_mode": {
    "name": "ipython",
    "version": 3
   },
   "file_extension": ".py",
   "mimetype": "text/x-python",
   "name": "python",
   "nbconvert_exporter": "python",
   "pygments_lexer": "ipython3",
   "version": "3.11.7"
  }
 },
 "nbformat": 4,
 "nbformat_minor": 5
}
